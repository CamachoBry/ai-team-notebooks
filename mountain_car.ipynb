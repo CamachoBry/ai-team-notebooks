{
 "cells": [
  {
   "cell_type": "code",
   "execution_count": 55,
   "metadata": {},
   "outputs": [],
   "source": [
    "import gym\n",
    "import numpy as np"
   ]
  },
  {
   "cell_type": "code",
   "execution_count": 56,
   "metadata": {},
   "outputs": [
    {
     "name": "stdout",
     "output_type": "stream",
     "text": [
      "3\n",
      "Position low: -1.2000000476837158, Position high: 0.6000000238418579\n",
      "Velocity low: -0.07000000029802322, Velocity high: 0.07000000029802322\n"
     ]
    }
   ],
   "source": [
    "#Setting up the game and environment\n",
    "env = gym.make('MountainCar-v0')\n",
    "env.reset()\n",
    "\n",
    "#Constant variables\n",
    "DISCRETE_OS_SIZE = [5, 5]\n",
    "discrete_os_win_size = (env.observation_space.high - env.observation_space.low) / DISCRETE_OS_SIZE\n",
    "size=(DISCRETE_OS_SIZE +[env.action_space.n])\n",
    "\n",
    "#Q-learning settings\n",
    "LEARNING_RATE = 0.1     #Used to pick how fast the agent will learn/ update Q-values\n",
    "DISCOUNT = 0.95         #Used to add a discount to put more weight on long-term goals than short-term\n",
    "EPISODES = 2000         #Amount of episodes which the 'simulation' will run and learn\n",
    "SHOW_EVERY = 500        #Used to render the simulation every 200 episodes\n",
    "\n",
    "#Initialize a random q_table with correct size\n",
    "q_table = np.random.uniform(low=-2, high=0, size=size)\n",
    "\n",
    "#Agent(Mountain Car) has 3 actions{0:push left, 1:no push, 2:push right}\n",
    "print(env.action_space.n)\n",
    "\n",
    "#Agent has 2 variables: position and velocity\n",
    "print(f\"Position low: {env.observation_space.low[0]}, Position high: {env.observation_space.high[0]}\")\n",
    "print(f\"Velocity low: {env.observation_space.low[1]}, Velocity high: {env.observation_space.high[1]}\")\n"
   ]
  },
  {
   "cell_type": "code",
   "execution_count": 57,
   "metadata": {},
   "outputs": [],
   "source": [
    "#Helper method to get discrete state of a state (break into bins)\n",
    "#We break into discrete states because decimal places are too big to compute, will take long\n",
    "def get_discrete_state(state):\n",
    "    discrete_state = (state - env.observation_space.low) / discrete_os_win_size\n",
    "    return tuple(discrete_state.astype(np.int))"
   ]
  },
  {
   "cell_type": "code",
   "execution_count": 2,
   "metadata": {},
   "outputs": [
    {
     "ename": "NameError",
     "evalue": "name 'EPISODES' is not defined",
     "output_type": "error",
     "traceback": [
      "\u001b[0;31m---------------------------------------------------------------------------\u001b[0m",
      "\u001b[0;31mNameError\u001b[0m                                 Traceback (most recent call last)",
      "\u001b[0;32m<ipython-input-2-b200dca2e80c>\u001b[0m in \u001b[0;36m<module>\u001b[0;34m\u001b[0m\n\u001b[0;32m----> 1\u001b[0;31m \u001b[0;32mfor\u001b[0m \u001b[0mepisode\u001b[0m \u001b[0;32min\u001b[0m \u001b[0mrange\u001b[0m\u001b[0;34m(\u001b[0m\u001b[0mEPISODES\u001b[0m\u001b[0;34m)\u001b[0m\u001b[0;34m:\u001b[0m\u001b[0;34m\u001b[0m\u001b[0;34m\u001b[0m\u001b[0m\n\u001b[0m\u001b[1;32m      2\u001b[0m     \u001b[0mdone\u001b[0m \u001b[0;34m=\u001b[0m \u001b[0;32mFalse\u001b[0m\u001b[0;34m\u001b[0m\u001b[0;34m\u001b[0m\u001b[0m\n\u001b[1;32m      3\u001b[0m     \u001b[0mdiscrete_state\u001b[0m \u001b[0;34m=\u001b[0m \u001b[0mget_discrete_state\u001b[0m\u001b[0;34m(\u001b[0m\u001b[0menv\u001b[0m\u001b[0;34m.\u001b[0m\u001b[0mreset\u001b[0m\u001b[0;34m(\u001b[0m\u001b[0;34m)\u001b[0m\u001b[0;34m)\u001b[0m\u001b[0;34m\u001b[0m\u001b[0;34m\u001b[0m\u001b[0m\n\u001b[1;32m      4\u001b[0m \u001b[0;34m\u001b[0m\u001b[0m\n\u001b[1;32m      5\u001b[0m \u001b[0;34m\u001b[0m\u001b[0m\n",
      "\u001b[0;31mNameError\u001b[0m: name 'EPISODES' is not defined"
     ]
    }
   ],
   "source": [
    "for episode in range(EPISODES):\n",
    "    done = False\n",
    "    discrete_state = get_discrete_state(env.reset())\n",
    "\n",
    "    \n",
    "    #SHOW_EVERY\n",
    "    if episode % SHOW_EVERY == 0:\n",
    "        render = True\n",
    "        print(episode)\n",
    "    else:\n",
    "        render = False\n",
    "    while not done:\n",
    "\n",
    "        #Get max Q-value of current state and chooses action\n",
    "        action = np.argmax(q_table[discrete_state])\n",
    "        new_state, reward, done, _ = env.step(action)\n",
    "\n",
    "        #Grabs discrete state of new_state to normalize\n",
    "        new_discrete_state = get_discrete_state(new_state)\n",
    "\n",
    "        #Opens the window to visualize\n",
    "        if episode % SHOW_EVERY == 0:\n",
    "            env.render()\n",
    "        \n",
    "        #if simulation is not done - update Q table\n",
    "        if not done:\n",
    "            \n",
    "            #Gets the maximum q-value for new_state\n",
    "            max_future_q = np.max(q_table[new_discrete_state])\n",
    "            \n",
    "            #Get current Q value for current state and action\n",
    "            current_q = q_table[discrete_state + (action,)]\n",
    "            \n",
    "            #Equation to get the new q-value\n",
    "            new_q = (1 - LEARNING_RATE) * current_q + LEARNING_RATE * (reward + DISCOUNT * max_future_q)\n",
    "            \n",
    "            #Update Q table with the new Q-value\n",
    "            q_table[discrete_state + (action,)] = new_q\n",
    "        \n",
    "        #else if, simulation ends or goal is reached\n",
    "        elif new_state[0] >= env.goal_position:\n",
    "            \n",
    "            #q_table[discrete_state + (action,)] = reward\n",
    "            #In this case, reward = 0 is 'reached goal'\n",
    "            q_table[discrete_state + (action,)] = 0\n",
    "        \n",
    "        discrete_state = new_discrete_state\n",
    "    \n",
    "    env.close()       \n",
    "\n",
    "    "
   ]
  },
  {
   "cell_type": "code",
   "execution_count": 3,
   "metadata": {},
   "outputs": [
    {
     "ename": "NameError",
     "evalue": "name 'discrete_state' is not defined",
     "output_type": "error",
     "traceback": [
      "\u001b[0;31m---------------------------------------------------------------------------\u001b[0m",
      "\u001b[0;31mNameError\u001b[0m                                 Traceback (most recent call last)",
      "\u001b[0;32m<ipython-input-3-53bde6b6bcf8>\u001b[0m in \u001b[0;36m<module>\u001b[0;34m\u001b[0m\n\u001b[0;32m----> 1\u001b[0;31m \u001b[0mdiscrete_state\u001b[0m\u001b[0;34m\u001b[0m\u001b[0;34m\u001b[0m\u001b[0m\n\u001b[0m",
      "\u001b[0;31mNameError\u001b[0m: name 'discrete_state' is not defined"
     ]
    }
   ],
   "source": [
    "(1,2) + (2,) = (1,2,2)"
   ]
  },
  {
   "cell_type": "code",
   "execution_count": null,
   "metadata": {},
   "outputs": [],
   "source": []
  }
 ],
 "metadata": {
  "kernelspec": {
   "display_name": "Python 3.7.3 64-bit ('dev': conda)",
   "language": "python",
   "name": "python37364bitdevconda5ff7c2e4e9ef4978bfc7056961d10b15"
  },
  "language_info": {
   "codemirror_mode": {
    "name": "ipython",
    "version": 3
   },
   "file_extension": ".py",
   "mimetype": "text/x-python",
   "name": "python",
   "nbconvert_exporter": "python",
   "pygments_lexer": "ipython3",
   "version": "3.7.3"
  }
 },
 "nbformat": 4,
 "nbformat_minor": 2
}
